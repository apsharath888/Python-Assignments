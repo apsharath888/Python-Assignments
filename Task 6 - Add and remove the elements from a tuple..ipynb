{
 "cells": [
  {
   "cell_type": "code",
   "execution_count": 7,
   "metadata": {},
   "outputs": [
    {
     "name": "stdout",
     "output_type": "stream",
     "text": [
      "(1, 2, 3, 4, 5, 6, 7, 8, 9)\n",
      "[1, 2, 3, 4, 5, 6, 7, 8, 9]\n",
      "5\n",
      "[1, 2, 3, 4, 6, 7, 8, 9]\n",
      "[1, 2, 3, 4, 6, 7, 8, 9, 1]\n",
      "(1, 2, 3, 4, 6, 7, 8, 9, 1)\n"
     ]
    }
   ],
   "source": [
    "#how to add and remove elements from the tuple\n",
    "\n",
    "tup1 = (1,2,3,4,5,6,7,8,9)\n",
    "print(tup1)\n",
    "\n",
    "type(tup1)\n",
    "\n",
    "#first convert the tuple to list\n",
    "x= list(tup1)\n",
    "print(x)\n",
    "\n",
    "#remove one element from the list\n",
    "y= x.pop(4)\n",
    "print(y)\n",
    "print(x)\n",
    "type(x)\n",
    "\n",
    "#add an element into the list\n",
    "\n",
    "x.append(1)\n",
    "print(x)\n",
    "type(x)\n",
    "#convert the list into the tuple\n",
    "\n",
    "tup1 = tuple(x)\n",
    "print(tup1)"
   ]
  },
  {
   "cell_type": "code",
   "execution_count": null,
   "metadata": {},
   "outputs": [],
   "source": []
  }
 ],
 "metadata": {
  "kernelspec": {
   "display_name": "Python 3",
   "language": "python",
   "name": "python3"
  },
  "language_info": {
   "codemirror_mode": {
    "name": "ipython",
    "version": 3
   },
   "file_extension": ".py",
   "mimetype": "text/x-python",
   "name": "python",
   "nbconvert_exporter": "python",
   "pygments_lexer": "ipython3",
   "version": "3.8.3"
  }
 },
 "nbformat": 4,
 "nbformat_minor": 4
}
