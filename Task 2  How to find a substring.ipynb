{
 "cells": [
  {
   "cell_type": "code",
   "execution_count": 1,
   "metadata": {},
   "outputs": [
    {
     "name": "stdout",
     "output_type": "stream",
     "text": [
      "8\n",
      "substring is found\n"
     ]
    }
   ],
   "source": [
    "#Check if \"to\" is present in \"welcome to python\"\n",
    "\n",
    "str= \"welcome to python\"\n",
    "sub_str= \"to\"\n",
    "\n",
    "print(str.find(sub_str)) #using the find() method\n",
    "\n",
    "if(str.find(sub_str)==-1): #find returns -1 when unable to find the substring\n",
    "    print(\"sub string is not found\")\n",
    "else:\n",
    "    print(\"substring is found\")\t"
   ]
  },
  {
   "cell_type": "code",
   "execution_count": null,
   "metadata": {},
   "outputs": [],
   "source": []
  }
 ],
 "metadata": {
  "kernelspec": {
   "display_name": "Python 3",
   "language": "python",
   "name": "python3"
  },
  "language_info": {
   "codemirror_mode": {
    "name": "ipython",
    "version": 3
   },
   "file_extension": ".py",
   "mimetype": "text/x-python",
   "name": "python",
   "nbconvert_exporter": "python",
   "pygments_lexer": "ipython3",
   "version": "3.8.3"
  }
 },
 "nbformat": 4,
 "nbformat_minor": 4
}
