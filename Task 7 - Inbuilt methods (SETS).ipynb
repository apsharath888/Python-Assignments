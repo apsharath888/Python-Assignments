{
 "cells": [
  {
   "cell_type": "markdown",
   "metadata": {},
   "source": [
    "# Python Set difference() Method\n",
    "The difference() method returns a set that contains the difference between two sets.\n"
   ]
  },
  {
   "cell_type": "code",
   "execution_count": 1,
   "metadata": {},
   "outputs": [
    {
     "name": "stdout",
     "output_type": "stream",
     "text": [
      "{8, 7}\n"
     ]
    }
   ],
   "source": [
    "x= {1,2,3,4,5,6,7,8}\n",
    "y= {1,2,3,4,5,6,98,101}\n",
    "z= x.difference(y)\n",
    "\n",
    "print(z)"
   ]
  },
  {
   "cell_type": "code",
   "execution_count": 2,
   "metadata": {},
   "outputs": [
    {
     "name": "stdout",
     "output_type": "stream",
     "text": [
      "{'momos', 'pizza', 'burger'}\n"
     ]
    }
   ],
   "source": [
    "x= {'chips','burger', 'pizza','momos'}\n",
    "y= {'chips','chicken', 'noodles','Manchuria'}\n",
    "\n",
    "z= x.difference(y)\n",
    "print(z)"
   ]
  },
  {
   "cell_type": "markdown",
   "metadata": {},
   "source": [
    "# Python Set symmetric_difference() Method\n",
    "\n",
    "The symmetric_difference() method returns a set that contains all items from both set, but not the items that are present in both sets."
   ]
  },
  {
   "cell_type": "code",
   "execution_count": 4,
   "metadata": {},
   "outputs": [
    {
     "name": "stdout",
     "output_type": "stream",
     "text": [
      "{'Manchuria', 'burger', 'momos', 'pizza', 'chicken', 'noodles'}\n"
     ]
    }
   ],
   "source": [
    "x= {'chips','burger', 'pizza','momos'}\n",
    "y= {'chips','chicken', 'noodles','Manchuria'}\n",
    "\n",
    "z= x.symmetric_difference(y)\n",
    "print(z)"
   ]
  },
  {
   "cell_type": "code",
   "execution_count": 5,
   "metadata": {},
   "outputs": [
    {
     "name": "stdout",
     "output_type": "stream",
     "text": [
      "{98, 101, 7, 8}\n"
     ]
    }
   ],
   "source": [
    "x= {1,2,3,4,5,6,7,8}\n",
    "y= {1,2,3,4,5,6,98,101}\n",
    "z= x.symmetric_difference(y)\n",
    "\n",
    "print(z)"
   ]
  },
  {
   "cell_type": "code",
   "execution_count": null,
   "metadata": {},
   "outputs": [],
   "source": []
  }
 ],
 "metadata": {
  "kernelspec": {
   "display_name": "Python 3",
   "language": "python",
   "name": "python3"
  },
  "language_info": {
   "codemirror_mode": {
    "name": "ipython",
    "version": 3
   },
   "file_extension": ".py",
   "mimetype": "text/x-python",
   "name": "python",
   "nbconvert_exporter": "python",
   "pygments_lexer": "ipython3",
   "version": "3.8.3"
  }
 },
 "nbformat": 4,
 "nbformat_minor": 4
}
