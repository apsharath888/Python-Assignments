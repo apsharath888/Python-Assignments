{
 "cells": [
  {
   "cell_type": "markdown",
   "metadata": {},
   "source": [
    "# Case fold ()\n",
    "\n",
    "Converts string into lower case"
   ]
  },
  {
   "cell_type": "code",
   "execution_count": 8,
   "metadata": {
    "scrolled": true
   },
   "outputs": [
    {
     "name": "stdout",
     "output_type": "stream",
     "text": [
      "hello, and welcome to my world! and how are you\n",
      "rcb won the match today\n"
     ]
    }
   ],
   "source": [
    "#example \n",
    "\n",
    "str = \"Hello, And Welcome To My World! and HOW are you\"\n",
    "\n",
    "x = str.casefold()\n",
    "\n",
    "print(x)\n",
    "\n",
    "#case fold and the lower methods are same but case fold is stronger and more aggresive\n",
    "\n",
    "ipl =\"RCB WON THE MATCH TODAY\"\n",
    "\n",
    "x=ipl.casefold()\n",
    "\n",
    "print(x)"
   ]
  },
  {
   "cell_type": "markdown",
   "metadata": {},
   "source": [
    "# count() Method\n",
    "The count() method returns the number of times a specified value (sub string) appears in the string."
   ]
  },
  {
   "cell_type": "code",
   "execution_count": 13,
   "metadata": {},
   "outputs": [
    {
     "name": "stdout",
     "output_type": "stream",
     "text": [
      "2\n",
      "3\n"
     ]
    }
   ],
   "source": [
    "#example\n",
    "\n",
    "str1 = \"what are you doing and how are you man\"\n",
    "\n",
    "x = str1.count(\"you\")\n",
    "\n",
    "print(x)\n",
    "\n",
    "\n",
    "mobile = \"my mobile is hanging just becoz it is using a lot of ram and is also running out of battery\"\n",
    "\n",
    "x=  mobile.count(\"is\")\n",
    "\n",
    "print(x)"
   ]
  },
  {
   "cell_type": "markdown",
   "metadata": {},
   "source": [
    "# Split() method\n",
    "The split() method splits a string into a list."
   ]
  },
  {
   "cell_type": "code",
   "execution_count": 26,
   "metadata": {},
   "outputs": [
    {
     "name": "stdout",
     "output_type": "stream",
     "text": [
      "['what', ' are', ' you', ' doing', ' and', ' how', ' are', ' you', ' man']\n",
      "['banana', 'apple', 'watermmelon', 'Mango']\n"
     ]
    }
   ],
   "source": [
    "#example\n",
    "\n",
    "str1 = \"what, are, you, doing, and, how, are, you, man\"\n",
    "x= str1.split( \",\" )\n",
    "print(x)\n",
    "\n",
    "fruits =\"banana/apple/watermmelon/Mango\"\n",
    "x= fruits.split('/')\n",
    "print(x)"
   ]
  },
  {
   "cell_type": "markdown",
   "metadata": {},
   "source": [
    "# Strip()method\n",
    "The strip() method removes any leading (spaces at the beginning) and trailing (spaces at the end) characters (space is the default leading character to remove)"
   ]
  },
  {
   "cell_type": "code",
   "execution_count": 29,
   "metadata": {},
   "outputs": [
    {
     "name": "stdout",
     "output_type": "stream",
     "text": [
      "python\n",
      "Banana\n"
     ]
    }
   ],
   "source": [
    "#example:\n",
    "\n",
    "str1= \"..........&&&grrrrpython......\"\n",
    "x= str1.strip(\".&gr\")\n",
    "print(x)\n",
    "\n",
    "\n",
    "str =\"                   Banana            \"\n",
    "x= str.strip()\n",
    "print(x)"
   ]
  },
  {
   "cell_type": "markdown",
   "metadata": {},
   "source": [
    "# find()\n",
    "The find() method finds the first occurrence of the specified value.\n",
    "\n",
    "The find() method returns -1 if the value is not found.\n",
    "\n",
    "The find() method is almost the same as the index() method, the only difference is that the index() method raises an exception if the value is not found. (See example below)\n",
    "\n"
   ]
  },
  {
   "cell_type": "code",
   "execution_count": 36,
   "metadata": {},
   "outputs": [
    {
     "name": "stdout",
     "output_type": "stream",
     "text": [
      "11\n",
      "-1\n"
     ]
    }
   ],
   "source": [
    "str1= \"ABD scored six sixes in todays match\"\n",
    "\n",
    "x= str1.find(\"six\")\n",
    "print(x)\n",
    "\n",
    "\n",
    "str2= \"let us enjoy the day\"\n",
    "\n",
    "x= str2.find(\"enjoys\")\n",
    "print(x)"
   ]
  },
  {
   "cell_type": "code",
   "execution_count": null,
   "metadata": {},
   "outputs": [],
   "source": []
  }
 ],
 "metadata": {
  "kernelspec": {
   "display_name": "Python 3",
   "language": "python",
   "name": "python3"
  },
  "language_info": {
   "codemirror_mode": {
    "name": "ipython",
    "version": 3
   },
   "file_extension": ".py",
   "mimetype": "text/x-python",
   "name": "python",
   "nbconvert_exporter": "python",
   "pygments_lexer": "ipython3",
   "version": "3.8.3"
  }
 },
 "nbformat": 4,
 "nbformat_minor": 4
}
