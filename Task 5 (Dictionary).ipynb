{
 "cells": [
  {
   "cell_type": "markdown",
   "metadata": {},
   "source": [
    "# dict1 = \n",
    "{ \n",
    "   \"april_batch\":{ \n",
    "      \"student\":{ \n",
    "         \"name\":\"Mike\",\n",
    "         \"marks\":{ \n",
    "            \"python\":80,\n",
    "            \"maths\":70\n",
    "         }\n",
    "      }\n",
    "   }\n",
    "}"
   ]
  },
  {
   "cell_type": "code",
   "execution_count": 2,
   "metadata": {},
   "outputs": [
    {
     "data": {
      "text/plain": [
       "'Mike'"
      ]
     },
     "execution_count": 2,
     "metadata": {},
     "output_type": "execute_result"
    }
   ],
   "source": [
    "#1)access \"Mike\"\n",
    "\n",
    "dict1 = { \n",
    "   \"april_batch\":\n",
    "    { \"student\":{\"name\":\"Mike\",  \n",
    "                 \n",
    "     \"marks\":{ \"python\":80,\"maths\":70}}   }\n",
    "\n",
    "}\n",
    "dict1[\"april_batch\"]['student']['name']"
   ]
  },
  {
   "cell_type": "code",
   "execution_count": 3,
   "metadata": {},
   "outputs": [
    {
     "data": {
      "text/plain": [
       "80"
      ]
     },
     "execution_count": 3,
     "metadata": {},
     "output_type": "execute_result"
    }
   ],
   "source": [
    "#2)access 80\n",
    "\n",
    "dict1[\"april_batch\"]['student']['marks']['python']"
   ]
  },
  {
   "cell_type": "code",
   "execution_count": 4,
   "metadata": {
    "scrolled": true
   },
   "outputs": [
    {
     "name": "stdout",
     "output_type": "stream",
     "text": [
      "sharath\n",
      "{'april_batch': {'student': {'name': 'sharath', 'marks': {'python': 80, 'maths': 70}}}}\n"
     ]
    }
   ],
   "source": [
    "#3)change \"Mike\" to \"Your name\"\n",
    "dict1[\"april_batch\"]['student']['name']=\"sharath\"\n",
    "print('sharath')\n",
    "print(dict1)"
   ]
  },
  {
   "cell_type": "code",
   "execution_count": 8,
   "metadata": {},
   "outputs": [
    {
     "name": "stdout",
     "output_type": "stream",
     "text": [
      "{'april_batch': {'student': {'name': 'sharath', 'marks': {'python': 80, 'maths': 70, 'DL': '80', 'ML': '80'}}}}\n"
     ]
    }
   ],
   "source": [
    "#4)add ML = 80 and DL = 80 inside marks\n",
    "\n",
    "dict1['april_batch']['student']['marks']['DL']=\"80\"\n",
    "dict1['april_batch']['student']['marks'][\"ML\"]=\"80\"\n",
    "print(dict1)"
   ]
  },
  {
   "cell_type": "code",
   "execution_count": null,
   "metadata": {},
   "outputs": [],
   "source": []
  },
  {
   "cell_type": "code",
   "execution_count": null,
   "metadata": {},
   "outputs": [],
   "source": []
  }
 ],
 "metadata": {
  "kernelspec": {
   "display_name": "Python 3",
   "language": "python",
   "name": "python3"
  },
  "language_info": {
   "codemirror_mode": {
    "name": "ipython",
    "version": 3
   },
   "file_extension": ".py",
   "mimetype": "text/x-python",
   "name": "python",
   "nbconvert_exporter": "python",
   "pygments_lexer": "ipython3",
   "version": "3.8.3"
  }
 },
 "nbformat": 4,
 "nbformat_minor": 4
}
