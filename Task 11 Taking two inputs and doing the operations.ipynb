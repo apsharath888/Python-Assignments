{
 "cells": [
  {
   "cell_type": "code",
   "execution_count": 3,
   "metadata": {},
   "outputs": [
    {
     "name": "stdout",
     "output_type": "stream",
     "text": [
      "Enter a number :46\n",
      "Enter another number :12\n",
      "Press 1 for addition  \n",
      "                Press 2 for multiplication  \n",
      "                Press 3 for subrtraction \n",
      "                Press 4 for division1\n",
      "Addition of the two numbers is: 58\n"
     ]
    }
   ],
   "source": [
    "def sum(x, y):\n",
    "    return x + y\n",
    "def subtract(x, y):\n",
    "    return x - y\n",
    "def multiply(x, y):\n",
    "    return x * y\n",
    "def divide(x, y):\n",
    "    return x / y\n",
    "\n",
    "\n",
    "num1 = int(input(\"Enter a number :\"))\n",
    "\n",
    "num2 = int(input(\"Enter another number :\"))\n",
    "\n",
    "num3 = input('''Press 1 for addition  \n",
    "                Press 2 for multiplication  \n",
    "                Press 3 for subrtraction \n",
    "                Press 4 for division''')\n",
    "\n",
    "\n",
    "if num3 == \"1\":\n",
    " print(\"Addition of the two numbers is:\", sum(num1, num2))\n",
    "\n",
    "elif num3 == \"2\":\n",
    " print(\"Subraction of the two numbers is:\" , subtract(num1, num2))\n",
    "\n",
    "elif num3 == \"3\":\n",
    " print(\"Multiplication of the two numbers is: \" , multiply(num1, num2))\n",
    "\n",
    "\n",
    "elif num3 == \"4\":\n",
    " print(\"Divsion of the two numbers is:\" , divide(num1, num2))\n",
    "\n",
    "else:\n",
    " print(\"Invalid input\")"
   ]
  },
  {
   "cell_type": "code",
   "execution_count": null,
   "metadata": {},
   "outputs": [],
   "source": []
  }
 ],
 "metadata": {
  "kernelspec": {
   "display_name": "Python 3",
   "language": "python",
   "name": "python3"
  },
  "language_info": {
   "codemirror_mode": {
    "name": "ipython",
    "version": 3
   },
   "file_extension": ".py",
   "mimetype": "text/x-python",
   "name": "python",
   "nbconvert_exporter": "python",
   "pygments_lexer": "ipython3",
   "version": "3.8.3"
  }
 },
 "nbformat": 4,
 "nbformat_minor": 4
}
